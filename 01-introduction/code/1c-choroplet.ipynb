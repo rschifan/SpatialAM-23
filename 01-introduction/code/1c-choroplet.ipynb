{
 "cells": [
  {
   "cell_type": "markdown",
   "metadata": {},
   "source": [
    "# Mapping in Python with geopandas"
   ]
  },
  {
   "cell_type": "code",
   "execution_count": 1,
   "metadata": {},
   "outputs": [],
   "source": [
    "import matplotlib\n",
    "import matplotlib.pyplot as plt\n",
    "import numpy as np\n",
    "\n",
    "%config InlineBackend.figure_format = 'retina'\n",
    "\n",
    "import geopandas as gpd\n",
    "import pysal as ps\n",
    "import palettable as pltt\n",
    "import seaborn as sns\n",
    "from seaborn import palplot\n",
    "import numpy as np"
   ]
  },
  {
   "cell_type": "code",
   "execution_count": null,
   "metadata": {},
   "outputs": [],
   "source": [
    "print(matplotlib.__version__)\n",
    "print(gpd.__version__)\n",
    "print(ps.__version__)"
   ]
  },
  {
   "cell_type": "markdown",
   "metadata": {},
   "source": [
    "## Loading up spatial data "
   ]
  },
  {
   "cell_type": "markdown",
   "metadata": {},
   "source": [
    "The easiest way to get from a file to a quick visualization of the data is by loading it as a `GeoDataFrame` and calling the `plot` command. The main library employed for all of this is `geopandas` which is a geospatial extension of the `pandas` library, already introduced before. `geopandas` supports exactly the same functionality that `pandas` does (in fact since it is built on top of it, so most of the underlying machinery is pure `pandas`), plus a wide range of spatial counterparts that make manipulation and general \"munging\" of spatial data as easy as non-spatial tables.\n",
    "\n",
    "In two lines of code, we will obtain a graphical representation of the spatial data contained in a file that can be in many formats; actually, since it uses the same drivers under the hood, you can load pretty much the same kind of vector files that QGIS permits. Let us start by plotting single layers in a crude but quick form, and we will build style and sophistication into our plots later on.\n",
    "\n",
    "* Polygons\n",
    "\n",
    "Let us begin with the most common type of spatial data in the social science: polygons. For example, we can load the geography of LSOAs in London with the following lines of code:"
   ]
  },
  {
   "cell_type": "code",
   "execution_count": 3,
   "metadata": {},
   "outputs": [],
   "source": [
    "lsoas_london_link = 'data/shp/LSOA_2011_London_gen_MHW.shp'\n",
    "lsoas_london = gpd.read_file(lsoas_london_link)"
   ]
  },
  {
   "cell_type": "code",
   "execution_count": null,
   "metadata": {},
   "outputs": [],
   "source": [
    "lsoas_london.head()"
   ]
  },
  {
   "cell_type": "code",
   "execution_count": null,
   "metadata": {},
   "outputs": [],
   "source": [
    "lsoas_london.plot()"
   ]
  },
  {
   "cell_type": "markdown",
   "metadata": {},
   "source": [
    "This might not be the most aesthetically pleasant visual representation of the LSOAs geography, but it is hard to argue it is not quick to produce. We will work on styling and customizing spatial plots later on."
   ]
  },
  {
   "cell_type": "markdown",
   "metadata": {},
   "source": [
    "If you call a single row of the `geometry` column, it'll return a small plot ith the shape:"
   ]
  },
  {
   "cell_type": "code",
   "execution_count": null,
   "metadata": {},
   "outputs": [],
   "source": [
    "lsoas_london.loc[0, 'geometry']"
   ]
  },
  {
   "cell_type": "markdown",
   "metadata": {},
   "source": [
    "* Lines\n",
    "\n",
    "Displaying lines is as straight-forward as polygons. To load tube lines in London:"
   ]
  },
  {
   "cell_type": "code",
   "execution_count": 7,
   "metadata": {},
   "outputs": [],
   "source": [
    "london_tube_link = 'data/shp/london_tublines.shp'\n",
    "\n",
    "london_tube = gpd.read_file(london_tube_link)"
   ]
  },
  {
   "cell_type": "code",
   "execution_count": null,
   "metadata": {},
   "outputs": [],
   "source": [
    "london_tube.head()\n"
   ]
  },
  {
   "cell_type": "code",
   "execution_count": null,
   "metadata": {},
   "outputs": [],
   "source": [
    "london_tube.plot()"
   ]
  },
  {
   "cell_type": "markdown",
   "metadata": {},
   "source": [
    "* Points\n",
    "\n",
    "Finally, points follow a similar structure. If we want to represent named places in London:"
   ]
  },
  {
   "cell_type": "code",
   "execution_count": 10,
   "metadata": {},
   "outputs": [],
   "source": [
    "london_pois_link = 'data/shp/gis.osm_pois_free_1.shp'\n",
    "london_pois = gpd.read_file(london_pois_link)"
   ]
  },
  {
   "cell_type": "code",
   "execution_count": null,
   "metadata": {},
   "outputs": [],
   "source": [
    "london_pois.head()"
   ]
  },
  {
   "cell_type": "code",
   "execution_count": null,
   "metadata": {},
   "outputs": [],
   "source": [
    "london_pois.plot(edgecolor='black')"
   ]
  },
  {
   "cell_type": "code",
   "execution_count": 13,
   "metadata": {},
   "outputs": [],
   "source": [
    "# london_pois = london_pois.to_crs({'datum': 'OSGB36',\n",
    "#     'k': 0.999601272,\n",
    "#     'lat_0': 49,\n",
    "#     'lon_0': -2,\n",
    "#     'no_defs': True,\n",
    "#     'proj': 'tmerc',\n",
    "#     'units': 'm',\n",
    "#     'x_0': 400000,\n",
    "#     'y_0': -100000\n",
    "# })\n",
    "\n",
    "london_pois = london_pois.to_crs('epsg:27700')"
   ]
  },
  {
   "cell_type": "code",
   "execution_count": null,
   "metadata": {},
   "outputs": [],
   "source": [
    "london_pois.head()"
   ]
  },
  {
   "cell_type": "code",
   "execution_count": 15,
   "metadata": {},
   "outputs": [],
   "source": [
    "london_pois.to_file(driver = 'ESRI Shapefile', filename= \"data/shp/pois_london_epsg27700.shp\")"
   ]
  },
  {
   "cell_type": "code",
   "execution_count": null,
   "metadata": {},
   "outputs": [],
   "source": [
    "london_pois['fclass'].unique()"
   ]
  },
  {
   "cell_type": "code",
   "execution_count": null,
   "metadata": {},
   "outputs": [],
   "source": [
    "london_pubs = london_pois.loc[london_pois['fclass']==\"pub\"]\n",
    "london_pubs.info()"
   ]
  },
  {
   "cell_type": "code",
   "execution_count": null,
   "metadata": {},
   "outputs": [],
   "source": [
    "london_pubs.plot(edgecolor='black')"
   ]
  },
  {
   "cell_type": "markdown",
   "metadata": {},
   "source": [
    "## Styling plots"
   ]
  },
  {
   "cell_type": "markdown",
   "metadata": {},
   "source": [
    "It is possible to tweak several aspects of a plot to customize if to particular needs. In this section, we will explore some of the basic elements that will allow us to obtain more compelling maps."
   ]
  },
  {
   "cell_type": "markdown",
   "metadata": {},
   "source": [
    "* Remove axis\n",
    "* Set title\n",
    "* Customizing colors, lines, alpha\n",
    "* Customizing size"
   ]
  },
  {
   "cell_type": "markdown",
   "metadata": {},
   "source": [
    "These are styling options. Omit them or alter them to suit."
   ]
  },
  {
   "cell_type": "code",
   "execution_count": 19,
   "metadata": {},
   "outputs": [],
   "source": [
    "# from matplotlib import rc\n",
    "\n",
    "# rc('font', **{'family':'DejaVu Sans',\n",
    "#     'sans-serif':['Helvetica'],\n",
    "#     'monospace': ['Inconsolata'],\n",
    "#     'serif': ['Adobe Garamond Pro']}\n",
    "#   )"
   ]
  },
  {
   "cell_type": "code",
   "execution_count": null,
   "metadata": {},
   "outputs": [],
   "source": [
    "# Setup figure and axis\n",
    "f, ax = plt.subplots(\n",
    "    1, \n",
    "    figsize=(12., 8.),\n",
    "    subplot_kw=dict(aspect='equal'))\n",
    "\n",
    "# Remove axis frames\n",
    "ax.axis('off')\n",
    "\n",
    "# Plot layer of polygons on the axis\n",
    "lsoas_london.plot(ax=ax, linewidth=0.1, facecolor='#999999', edgecolor='#111111', alpha=0.8)\n",
    "# Display\n",
    "plt.title('Greater London LSOAs')\n",
    "plt.tight_layout()\n",
    "plt.show()    "
   ]
  },
  {
   "cell_type": "markdown",
   "metadata": {},
   "source": [
    "## Composing multi-layer maps"
   ]
  },
  {
   "cell_type": "markdown",
   "metadata": {},
   "source": [
    "So far we have considered many aspects of plotting a single layer of data. However, in many cases, an effective map will require more than one: for example we might want to display streets on top of the polygons of neighborhoods, and add a few points for specific locations we want to highlight. At the very heart of GIS is the possibility to combine spatial information from different sources by overlaying it on top of each other, and this is fully supported in Python.\n",
    "\n",
    "Essentially, combining different layers on a single map boils down to adding each of them to the same axis in a sequential way, as if we were literally overlaying one on top of the previous one. For example, let us get the simplest possible plot, one with the polygons from the LSOAs and the tube lines on top of them:"
   ]
  },
  {
   "cell_type": "code",
   "execution_count": null,
   "metadata": {},
   "outputs": [],
   "source": [
    "# Setup figure and axis\n",
    "f, ax = plt.subplots(\n",
    "    1, \n",
    "    figsize=(10., 8.),\n",
    "    dpi=100,\n",
    "    subplot_kw=dict(aspect='equal'))\n",
    "\n",
    "# Remove axis frames\n",
    "ax.axis('off')\n",
    "\n",
    "# Plot layer of polygons on the axis\n",
    "lsoas_london.plot(ax=ax, linewidth=0.05, facecolor='#999999', edgecolor='#111111', alpha=0.8)\n",
    "london_tube.plot(ax=ax, linewidth=0.5, edgecolor='red', alpha=0.6, label='tube lines')\n",
    "london_pubs.plot(ax=ax, linewidth=0.1, facecolor='blue', alpha=0.8, markersize=2, label='pubs')\n",
    "\n",
    "# Display\n",
    "ax.legend()\n",
    "plt.title('Greater London LSOAs+tube+pubs')\n",
    "plt.tight_layout()\n",
    "plt.show()    "
   ]
  },
  {
   "cell_type": "markdown",
   "metadata": {},
   "source": [
    "## Using palettes to create aesthetically pleasant maps\n",
    "\n",
    "The choice of colors can influence the look and, ultimately, the effectiveness of a map. Although in some cases picking colors that simply allow you to distinguish the different elements might suffice, sometimes, you want to convey certain feelings (warmth, safety, etc.). In those cases, using preexisting palettes can be useful.\n",
    "\n",
    "In this section, we will learn how to use pre-existent palettes to style your maps. We will be using the library [`palettable`](https://jiffyclub.github.io/palettable/), which provides many \"canned\" palettes. We will also use the handy function `palplot` (from the library `seaborn`) to examine the colors quickly.\n",
    "\n",
    "For the sake of the example, let us use a palette based on one of Wes Anderson's movies, Darjeeling Limited:\n",
    "\n",
    "<img src='http://66.media.tumblr.com/2815b755b493555dd4a74fc9f7c84bdb/tumblr_nj7cclt9qb1tvvqeko1_500.jpg'></img>\n",
    "\n",
    "Here is how you can pull out those colors:"
   ]
  },
  {
   "cell_type": "code",
   "execution_count": null,
   "metadata": {},
   "outputs": [],
   "source": [
    "wes = pltt.wesanderson.Darjeeling2_5.hex_colors\n",
    "palplot(wes)"
   ]
  },
  {
   "cell_type": "markdown",
   "metadata": {},
   "source": [
    "Now, note how the object `wes` simply contains a list of colors in the hex standard:"
   ]
  },
  {
   "cell_type": "code",
   "execution_count": null,
   "metadata": {},
   "outputs": [],
   "source": [
    "wes"
   ]
  },
  {
   "cell_type": "code",
   "execution_count": null,
   "metadata": {},
   "outputs": [],
   "source": [
    "# Setup figure and axis\n",
    "f, ax = plt.subplots(\n",
    "    1, \n",
    "    figsize=(10., 8.),\n",
    "    dpi=100,\n",
    "    subplot_kw=dict(aspect='equal'))\n",
    "\n",
    "# Remove axis frames\n",
    "ax.axis('off')\n",
    "ax.set_title('Greater London LSOAs+tube+pubs')\n",
    "\n",
    "# Plot layer of polygons on the axis\n",
    "lsoas_london.plot(ax=ax, linewidth=0.05, facecolor='#D5E3D8', \n",
    "                  edgecolor='#D5E3D8', alpha=0.8)\n",
    "london_tube.plot(ax=ax, linewidth=0.5, edgecolor='#618A98', alpha=0.4, label='tube lines')\n",
    "london_pubs.plot(ax=ax, linewidth=0.1, facecolor='#F9DA95', alpha=1.0, \n",
    "                 edgecolor='#AE4B16', markersize=2, label='pubs')\n",
    "# Display\n",
    "ax.legend()\n",
    "plt.tight_layout()\n",
    "plt.show()    "
   ]
  },
  {
   "cell_type": "markdown",
   "metadata": {},
   "source": [
    "## Saving maps to figures \n",
    "\n",
    "Once we have produced a map we are content with, we might want to save it to a file so we can include it into a report, article, website, etc. Exporting maps in Python is as simple as replacing `plt.show` by `plt.savefig` at the end of the code block to specify where and how to save it. For example to save the previous map into a `png` file in the same folder where the notebook is hosted:"
   ]
  },
  {
   "cell_type": "code",
   "execution_count": null,
   "metadata": {},
   "outputs": [],
   "source": [
    "# Setup figure and axis\n",
    "f, ax = plt.subplots(\n",
    "    1, \n",
    "    figsize=(10., 8.),\n",
    "    dpi=100,\n",
    "    subplot_kw=dict(aspect='equal'))\n",
    "\n",
    "# Remove axis frames\n",
    "ax.axis('off')\n",
    "ax.set_title('Greater London LSOAs+tube+pubs')\n",
    "\n",
    "# Plot layer of polygons on the axis\n",
    "lsoas_london.plot(ax=ax, linewidth=0.05, facecolor='#D5E3D8', \n",
    "                  edgecolor='#D5E3D8', alpha=0.8)\n",
    "london_tube.plot(ax=ax, linewidth=0.5, edgecolor='#618A98', alpha=0.4, label='tube lines')\n",
    "london_pubs.plot(ax=ax, linewidth=0.1, facecolor='#F9DA95', alpha=1.0, \n",
    "                 edgecolor='#AE4B16', markersize=2, label='pubs')\n",
    "ax.legend()   \n",
    "# Save to file\n",
    "plt.tight_layout()\n",
    "plt.savefig('figs/london_tube_pubs.png', dpi=200, transparent=True)"
   ]
  },
  {
   "cell_type": "markdown",
   "metadata": {},
   "source": [
    "Loading the London Index of Multiple Deprivation (IMD) dataset"
   ]
  },
  {
   "cell_type": "code",
   "execution_count": null,
   "metadata": {},
   "outputs": [],
   "source": [
    "imd_london = gpd.read_file('data/shp/London_IMD_MSOA.shp')\n",
    "imd_london.head()"
   ]
  },
  {
   "cell_type": "code",
   "execution_count": null,
   "metadata": {},
   "outputs": [],
   "source": [
    "imd_london.columns.values"
   ]
  },
  {
   "cell_type": "markdown",
   "metadata": {},
   "source": [
    "# Choropleths"
   ]
  },
  {
   "cell_type": "markdown",
   "metadata": {},
   "source": [
    "## Unique values\n",
    "\n",
    "A choropleth for categorical variables simply assigns a different color to every potential value in the series. The main requirement in this case is then for the color scheme to reflect the fact that different values are not ordered or follow a particular scale.\n",
    "\n",
    "In Python, thanks to `geopandas`, creating categorical choropleths is possible with one line of code. To demonstrate this, we can plot the spatial distribution of LSOAs with a more white population than other races and viceversa:"
   ]
  },
  {
   "cell_type": "code",
   "execution_count": 28,
   "metadata": {},
   "outputs": [],
   "source": [
    "imd_london['majority_race'] = np.where(imd_london.eval(\"white_p > 50\"), \"White\", \"Other\")"
   ]
  },
  {
   "cell_type": "code",
   "execution_count": null,
   "metadata": {},
   "outputs": [],
   "source": [
    "f, ax = plt.subplots(\n",
    "    1, \n",
    "    figsize=(12., 8.),\n",
    "    dpi=100,\n",
    "    subplot_kw=dict(aspect='equal'))\n",
    "\n",
    "ax.axis('off')\n",
    "\n",
    "lines = imd_london.plot(\n",
    "    ax=ax,\n",
    "    column='majority_race',\n",
    "    categorical=True,\n",
    "    alpha=1, \n",
    "    edgecolor='w', \n",
    "    linewidth=0.1, \n",
    "    legend=True, \n",
    "    antialiased=True\n",
    ")\n",
    "\n",
    "plt.tight_layout()\n",
    "plt.show()\n"
   ]
  },
  {
   "cell_type": "markdown",
   "metadata": {},
   "source": [
    "Let us stop for a second in a few crucial aspects:\n",
    "\n",
    "* Note how we are using the same approach as for basic maps, the command `plot`, but we now need to add the argument `column` to specify which column in particular is to be represented.\n",
    "* Since the variable is categorical we need to make that explicit by setting the argument `categorical` to `True`.\n",
    "* As an optional argument, we can set `legend` to `True` and the resulting figure will include a legend with the names of all the values in the map.\n",
    "* Unless we specify a different colormap, the selected one respects the categorical nature of the data by not implying a gradient or scale but a qualitative structure."
   ]
  },
  {
   "cell_type": "markdown",
   "metadata": {},
   "source": [
    "## Equal intervals"
   ]
  },
  {
   "cell_type": "markdown",
   "metadata": {},
   "source": [
    "If, instead of categorical variables, we want to display the geographical distribution of a continuous phenomenon, we need to select a way to encode each value into a color. One potential solution is applying what is usually called \"equal intervals\". The intuition of this method is to split the *range* of the distribution, the difference between the minimum and maximum value, into equally large segments and to assign a different color to each of them according to a palette that reflects the fact that values are ordered.\n",
    "\n",
    "Using the example of the position of a LSOA in the national ranking of the IMD (`imd_rank`), we can calculate these segments, also called bins or buckets, using the library `PySAL`:"
   ]
  },
  {
   "cell_type": "code",
   "execution_count": 30,
   "metadata": {},
   "outputs": [],
   "source": [
    "imd_attribute = 'crime'"
   ]
  },
  {
   "cell_type": "code",
   "execution_count": null,
   "metadata": {},
   "outputs": [],
   "source": [
    "from mapclassify import EqualInterval\n",
    "from mapclassify import Quantiles\n",
    "from mapclassify import FisherJenks\n",
    "\n",
    "classes = EqualInterval(imd_london[imd_attribute], k=7)\n",
    "classes"
   ]
  },
  {
   "cell_type": "markdown",
   "metadata": {},
   "source": [
    "The only additional argument to pass to `Equal_Interval`, other than the actual variable we would like to classify is the number of segments we want to create, `k`, which we are arbitrarily setting to seven in this case. This will be the number of colors that will be plotted on the map so, although having several can give more detail, at some point the marginal value of an additional one is fairly limited, given the ability of the brain to tell any differences.\n",
    "\n",
    "Once we have classified the variable, we can check the actual break points where values stop being in one class and become part of the next one:"
   ]
  },
  {
   "cell_type": "code",
   "execution_count": null,
   "metadata": {},
   "outputs": [],
   "source": [
    "classes.bins"
   ]
  },
  {
   "cell_type": "code",
   "execution_count": null,
   "metadata": {},
   "outputs": [],
   "source": [
    "def draw_bins(geodf, attribute, scheme):\n",
    "\n",
    "    schemes = {'equal_interval': EqualInterval, \\\n",
    "               'quantiles': Quantiles, \\\n",
    "               'fisher_jenks': FisherJenks}\n",
    "    \n",
    "    classi = schemes[scheme](geodf[attribute], k=7)\n",
    "    \n",
    "    # Set up the figure\n",
    "    f, ax = plt.subplots(1)\n",
    "    # Plot the kernel density estimation (KDE)\n",
    "    sns.kdeplot(geodf[attribute], fill=True)\n",
    "    # Add a blue tick for every value at the bottom of the plot (rugs)\n",
    "    sns.rugplot(geodf[attribute], alpha=0.5)\n",
    "    # Loop over each break point and plot a vertical red line\n",
    "    for cut in classi.bins:\n",
    "        plt.axvline(cut, color='red', linewidth=0.75)\n",
    "    # Display image\n",
    "    plt.show()\n",
    "\n",
    "draw_bins(imd_london, imd_attribute, 'equal_interval')"
   ]
  },
  {
   "cell_type": "markdown",
   "metadata": {},
   "source": [
    "Technically speaking, the figure is created by overlaying a KDE plot with vertical bars for each of the break points. This makes much more explicit the issue highlighed by which the first bin contains a large amount of observations while the one with top values only encompasses a handful of them.\n",
    "\n",
    "To create a map that displays the colors assigned by the equal interval classification algorithm, we use a similar approach as with unique values but with some key differences:"
   ]
  },
  {
   "cell_type": "code",
   "execution_count": null,
   "metadata": {},
   "outputs": [],
   "source": [
    "f, ax = plt.subplots(\n",
    "    1, \n",
    "    figsize=(12., 8.),\n",
    "    dpi=100,\n",
    "    subplot_kw=dict(aspect='equal'))\n",
    "\n",
    "ax.axis('off')\n",
    "ax.set_title(\"London IMD 2015\")\n",
    "\n",
    "imd_london.plot(\n",
    "    ax=ax,\n",
    "    column=imd_attribute, \n",
    "    scheme='equal_interval', k=7, \n",
    "    cmap=plt.cm.Blues_r, \n",
    "    alpha=1, \n",
    "    edgecolor='w', \n",
    "    linewidth=0.1, \n",
    "    legend=True, \n",
    "    antialiased=True\n",
    ")\n",
    "\n",
    "plt.tight_layout()\n",
    "plt.show()"
   ]
  },
  {
   "cell_type": "markdown",
   "metadata": {},
   "source": [
    "We can use the parameter `legend_kwds` to customize the legend appearance (make sure you install geopandas directly from the github repository otherwise the `legend_kwds` parameter will not work properly as of now):"
   ]
  },
  {
   "cell_type": "code",
   "execution_count": null,
   "metadata": {},
   "outputs": [],
   "source": [
    "f, ax = plt.subplots(\n",
    "    1, \n",
    "    figsize=(12., 8.),\n",
    "    dpi=100,\n",
    "    subplot_kw=dict(aspect='equal'))\n",
    "\n",
    "ax.axis('off')\n",
    "ax.set_title(\"London IMD 2015\")\n",
    "\n",
    "imd_london.plot(\n",
    "    ax=ax,\n",
    "    column=imd_attribute, \n",
    "    scheme='equal_interval', k=7, \n",
    "    cmap=plt.cm.Blues_r, \n",
    "    alpha=1, \n",
    "    edgecolor='w', \n",
    "    linewidth=0.1, \n",
    "    legend=True, \n",
    "    antialiased=True\n",
    ")\n",
    "\n",
    "# Display data sources\n",
    "smallprint = ax.text(\n",
    "    .995, 0,\n",
    "    'Classification Method: Equal Interval\\n \\\n",
    "    Contains National Statistics data\\n \\\n",
    "    Contains Ordnance Survey data on %d LSOAs\\n \\\n",
    "    $\\copyright$ eurosys 2017' % int(imd_london[imd_attribute].count()),\n",
    "    ha='right', va='bottom',\n",
    "    size=10,\n",
    "    color='#555555',\n",
    "    transform=ax.transAxes)\n",
    "\n",
    "plt.tight_layout()\n",
    "plt.show()\n"
   ]
  },
  {
   "cell_type": "code",
   "execution_count": 36,
   "metadata": {},
   "outputs": [],
   "source": [
    "legend_kwds_default = {    \n",
    "    'loc':'lower right', \n",
    "    'fontsize':10, \n",
    "    'shadow':True, \n",
    "    'fancybox':True, \n",
    "    'frameon':True,\n",
    "    'framealpha':1.0,\n",
    "    'edgecolor':'#999999',\n",
    "    'facecolor':'#FFFFFF',\n",
    "    'bbox_to_anchor':(1, 0.1)\n",
    "}\n",
    "\n",
    "def draw_choropleth(geodf, attribute, scheme, cmap=plt.cm.Blues_r, dpi=100, width=12., \n",
    "                    height=8., title=None,legend_kwds=legend_kwds_default, smallprint=None):\n",
    "    f, ax = plt.subplots(\n",
    "    1, \n",
    "    figsize=(width, height),\n",
    "    dpi=dpi,\n",
    "    subplot_kw=dict(aspect='equal'))\n",
    "\n",
    "    ax.axis('off')\n",
    "    \n",
    "    if title:\n",
    "        ax.set_title(title)\n",
    "\n",
    "    geodf.plot(\n",
    "        ax=ax,\n",
    "        column=attribute, \n",
    "        scheme=scheme, \n",
    "        k=7, \n",
    "        cmap=cmap, \n",
    "        alpha=1, \n",
    "        edgecolor='w', \n",
    "        linewidth=0.1, \n",
    "        legend=True, \n",
    "        antialiased=True\n",
    "#         ask for the fix to easily personalize the legend (advanced)\n",
    "#         legend_kwds=legend_kwds\n",
    "    )\n",
    "\n",
    "    # Display data sources\n",
    "    if smallprint:\n",
    "        ax.text(smallprint,\n",
    "            ha='right', va='bottom',\n",
    "            size=10,\n",
    "            color='#555555',\n",
    "            transform=ax.transAxes)\n",
    "\n",
    "    plt.tight_layout()\n",
    "    plt.show()\n",
    "    \n",
    "    \n",
    "    "
   ]
  },
  {
   "cell_type": "markdown",
   "metadata": {},
   "source": [
    "## Quantiles \n",
    "\n",
    "One solution to obtain a more balanced classification scheme is using quantiles. This, by definition, assigns the same amount of values to each bin: the entire series is laid out in order and break points are assigned in a way that leaves exactly the same amount of observations between each of them. This \"observation-based\" approach contrasts with the \"value-based\" method of equal intervals and, although it can obscure the magnitude of extreme values, it can be more informative in cases with skewed distributions.\n",
    "\n",
    "Calculating a quantiles classification with `PySAL` can be done with the following line of code:"
   ]
  },
  {
   "cell_type": "code",
   "execution_count": null,
   "metadata": {},
   "outputs": [],
   "source": [
    "classes = Quantiles(imd_london[imd_attribute], k=7)\n",
    "classes"
   ]
  },
  {
   "cell_type": "markdown",
   "metadata": {},
   "source": [
    "And, similarly, the bins can also be inspected:"
   ]
  },
  {
   "cell_type": "code",
   "execution_count": null,
   "metadata": {},
   "outputs": [],
   "source": [
    "classes.bins"
   ]
  },
  {
   "cell_type": "markdown",
   "metadata": {},
   "source": [
    "The visualization of the distribution can be generated in a similar way as well:"
   ]
  },
  {
   "cell_type": "code",
   "execution_count": null,
   "metadata": {},
   "outputs": [],
   "source": [
    "draw_bins(imd_london, imd_attribute, 'quantiles')"
   ]
  },
  {
   "cell_type": "markdown",
   "metadata": {},
   "source": [
    "And the choropleth also follows a similar pattern, with the difference that we are now using the scheme \"quantiles\", instead of \"equal interval\":"
   ]
  },
  {
   "cell_type": "code",
   "execution_count": null,
   "metadata": {},
   "outputs": [],
   "source": [
    "draw_choropleth(imd_london, imd_attribute, 'quantiles', title=\"London IMD 2015\")"
   ]
  },
  {
   "cell_type": "markdown",
   "metadata": {},
   "source": [
    "## Fisher-Jenks\n",
    "\n",
    "Equal interval and quantiles are only two examples of very many classification schemes to encode values into colors. Although not all of them are integrated into `geopandas`, `PySAL` includes several other classification schemes (for a detailed list, have a look at this [link](http://pysal.readthedocs.org/en/latest/library/esda/mapclassify.html)). As an example of a more sophisticated one, let us create a Fisher-Jenks choropleth:"
   ]
  },
  {
   "cell_type": "code",
   "execution_count": null,
   "metadata": {},
   "outputs": [],
   "source": [
    "classes = FisherJenks(imd_london[imd_attribute], k=7)\n",
    "classes"
   ]
  },
  {
   "cell_type": "code",
   "execution_count": null,
   "metadata": {},
   "outputs": [],
   "source": [
    "classes.bins"
   ]
  },
  {
   "cell_type": "code",
   "execution_count": null,
   "metadata": {},
   "outputs": [],
   "source": [
    "draw_bins(imd_london, imd_attribute, 'fisher_jenks')"
   ]
  },
  {
   "cell_type": "markdown",
   "metadata": {},
   "source": [
    "Technically, however, the way to create a Fisher-Jenks map is exactly the same as before (it takes time!):"
   ]
  },
  {
   "cell_type": "code",
   "execution_count": null,
   "metadata": {},
   "outputs": [],
   "source": [
    "draw_choropleth(imd_london, imd_attribute, 'fisher_jenks', title=\"London IMD 2015\")"
   ]
  },
  {
   "cell_type": "code",
   "execution_count": 45,
   "metadata": {},
   "outputs": [],
   "source": [
    "def plot_scheme(scheme, var, db, figsize=(16, 6), saveto=None):\n",
    "    '''\n",
    "    Plot the distribution over value and geographical space of variable `var` using scheme `scheme\n",
    "    ...\n",
    "    \n",
    "    Arguments\n",
    "    ---------\n",
    "    scheme   : str\n",
    "               Name of the classification scheme to use \n",
    "    var      : str\n",
    "               Variable name \n",
    "    db       : GeoDataFrame\n",
    "               Table with input data\n",
    "    figsize  : Tuple\n",
    "               [Optional. Default = (16, 8)] Size of the figure to be created.\n",
    "    saveto   : None/str\n",
    "               [Optional. Default = None] Path for file to save the plot.\n",
    "    '''\n",
    "    schemes = {'equal_interval': EqualInterval, \\\n",
    "               'quantiles': Quantiles, \\\n",
    "               'fisher_jenks': FisherJenks}\n",
    "    classi = schemes[scheme](db[var], k=7)\n",
    "    f, (ax1, ax2) = plt.subplots(1, 2, figsize=figsize, dpi=100)\n",
    "    # KDE\n",
    "    sns.kdeplot(db[var], fill=True, color='#26828E', ax=ax1)\n",
    "    sns.rugplot(db[var], alpha=0.5, color='#26828E', ax=ax1)\n",
    "    for cut in classi.bins:\n",
    "        ax1.axvline(cut, color='#31688E', linewidth=0.75)\n",
    "    ax1.set_title('Value distribution')\n",
    "    # Map\n",
    "    p = db.plot(column=var, scheme=scheme, alpha=0.75, k=7, \\\n",
    "             cmap='viridis_r', ax=ax2, linewidth=0.1)\n",
    "    ax2.axis('equal')\n",
    "    ax2.set_axis_off()\n",
    "    ax2.set_title('Geographical distribution')\n",
    "    f.suptitle(scheme, size=25)\n",
    "    if saveto:\n",
    "        plt.savefig(saveto)\n",
    "    plt.show()"
   ]
  },
  {
   "cell_type": "code",
   "execution_count": null,
   "metadata": {},
   "outputs": [],
   "source": [
    "plot_scheme('equal_interval', imd_attribute, imd_london)"
   ]
  },
  {
   "cell_type": "markdown",
   "metadata": {},
   "source": [
    "## Zooming into the map (trivial)\n",
    "\n",
    "A general map of an entire region, or urban area, can sometimes obscure particularly local patterns because they happen at a much smaller scale that cannot be perceived in the global view. One way to solve this is by providing a focus of a smaller part of the map in a separate figure. Although there are many ways to do this in Python, the most straightforward one is to reset the limits of the axes to center them in the area of interest.\n",
    "\n",
    "As an example, let us consider the quantile map produced above:"
   ]
  },
  {
   "cell_type": "code",
   "execution_count": null,
   "metadata": {},
   "outputs": [],
   "source": [
    "f, ax = plt.subplots(\n",
    "    1, \n",
    "    figsize=(4., 3.),\n",
    "    dpi=200,\n",
    "    subplot_kw=dict(aspect='equal'))\n",
    "\n",
    "ax.axis('off')\n",
    "\n",
    "imd_london.plot(\n",
    "    ax=ax,\n",
    "    column=imd_attribute, \n",
    "    scheme='quantiles', k=7, \n",
    "    cmap=plt.cm.Blues_r, \n",
    "    edgecolor='black',\n",
    "    lw=0.05,\n",
    "    alpha=1.0\n",
    ")\n",
    "\n",
    "# Redimensionate X and Y axes to desired bounds\n",
    "ax.set_ylim(175000, 185000)\n",
    "ax.set_xlim(530000, 540000)\n",
    "plt.tight_layout()\n",
    "plt.show()\n"
   ]
  },
  {
   "cell_type": "markdown",
   "metadata": {},
   "source": [
    "## Zooming into the map (advanced)"
   ]
  },
  {
   "cell_type": "code",
   "execution_count": null,
   "metadata": {},
   "outputs": [],
   "source": [
    "from mpl_toolkits.axes_grid1.inset_locator import inset_axes\n",
    "\n",
    "boroughs_selected = ['E09000007', 'E09000033','E09000019','E09000020','E09000001']\n",
    "scheme = 'Quantiles'\n",
    "\n",
    "# Load London boroughs\n",
    "boroughs_df = gpd.read_file(\"data/shp/London_Borough_Excluding_MHW.shp\")\n",
    "boroughs_df = boroughs_df.loc[boroughs_df['GSS_CODE'].isin(boroughs_selected)]\n",
    "\n",
    "fig, ax = plt.subplots(\n",
    "    1,\n",
    "    figsize=(12., 9.),\n",
    "    dpi=100,\n",
    "    subplot_kw=dict(aspect='equal'),\n",
    ")\n",
    "\n",
    "imd_london.loc[imd_london['lad11cd'].isin(boroughs_selected)].plot(\n",
    "#     categorical=True,\n",
    "    ax=ax,\n",
    "    alpha=1.,\n",
    "    column=imd_attribute,\n",
    "    k=7,\n",
    "    cmap=\"viridis_r\",\n",
    "    linewidth=0.1,\n",
    "    edgecolor='black',\n",
    "    legend=True, \n",
    "    scheme=scheme,\n",
    ")\n",
    "\n",
    "# Plot boroughs boundaries\n",
    "boroughs_df.plot(ax=ax, lw=2, color=\"none\", edgecolor=\"#555555\")\n",
    "\n",
    "ax.axis('off')\n",
    "\n",
    "ax.set_title(\"%s rates in %s London Boroughs\" % (imd_attribute, len(boroughs_selected)), color='#555555')\n",
    "\n",
    "smallprint = ax.text(\n",
    "    .995, 0,\n",
    "    'Classification Method: %s\\n \\\n",
    "    Contains National Statistics data\\n \\\n",
    "    Contains Ordnance Survey data on %d LSOAs\\n \\\n",
    "    $\\copyright$ eurosys 2017' % (scheme, imd_london['lad11cd'].isin(boroughs_selected).sum()),\n",
    "    ha='right', va='bottom',\n",
    "    size=10,\n",
    "    color='#555555',\n",
    "    transform=ax.transAxes)\n",
    "\n",
    "axins = inset_axes(\n",
    "    ax,\n",
    "    width=\"20%\", # width = % of parent_bbox\n",
    "    height=2.0,\n",
    "    loc=2,\n",
    "    axes_kwargs={'aspect': 'equal', 'facecolor': '#555555'}\n",
    ")\n",
    "\n",
    "inset= imd_london.plot(\n",
    "    ax=axins,\n",
    "    color='#555555',\n",
    "    facecolor='#555555',\n",
    "    edgecolor='#555555',\n",
    "    legend=False,\n",
    ")\n",
    "\n",
    "union = boroughs_df.unary_union\n",
    "union_gdf = gpd.GeoDataFrame(geometry=[union])\n",
    "union_gdf.plot(ax=axins, linewidth=1, edgecolor='red', color='none')\n",
    "\n",
    "axins.axis('off')\n",
    "plt.show()"
   ]
  },
  {
   "cell_type": "code",
   "execution_count": null,
   "metadata": {},
   "outputs": [],
   "source": []
  }
 ],
 "metadata": {
  "kernelspec": {
   "display_name": "Python 3",
   "language": "python",
   "name": "python3"
  },
  "language_info": {
   "codemirror_mode": {
    "name": "ipython",
    "version": 3
   },
   "file_extension": ".py",
   "mimetype": "text/x-python",
   "name": "python",
   "nbconvert_exporter": "python",
   "pygments_lexer": "ipython3",
   "version": "3.10.2"
  }
 },
 "nbformat": 4,
 "nbformat_minor": 4
}
